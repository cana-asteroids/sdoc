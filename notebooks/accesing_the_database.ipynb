{
 "cells": [
  {
   "cell_type": "markdown",
   "metadata": {},
   "source": [
    "# Access some optical constant data\n",
    "\n",
    "Basic usage example of the sdoc database.\n",
    "\n",
    "We will search for a optical constant data and plot it."
   ]
  },
  {
   "cell_type": "code",
   "execution_count": 38,
   "metadata": {},
   "outputs": [],
   "source": [
    "import sdoc\n",
    "import matplotlib.pyplot as plt"
   ]
  },
  {
   "cell_type": "markdown",
   "metadata": {},
   "source": [
    "### 1. Load the database and see the contents"
   ]
  },
  {
   "cell_type": "code",
   "execution_count": 19,
   "metadata": {
    "scrolled": true
   },
   "outputs": [],
   "source": [
    "sdb = sdoc.SDOC()"
   ]
  },
  {
   "cell_type": "code",
   "execution_count": 32,
   "metadata": {
    "scrolled": true
   },
   "outputs": [
    {
     "data": {
      "text/html": [
       "<div>\n",
       "<style scoped>\n",
       "    .dataframe tbody tr th:only-of-type {\n",
       "        vertical-align: middle;\n",
       "    }\n",
       "\n",
       "    .dataframe tbody tr th {\n",
       "        vertical-align: top;\n",
       "    }\n",
       "\n",
       "    .dataframe thead th {\n",
       "        text-align: right;\n",
       "    }\n",
       "</style>\n",
       "<table border=\"1\" class=\"dataframe\">\n",
       "  <thead>\n",
       "    <tr style=\"text-align: right;\">\n",
       "      <th></th>\n",
       "      <th>id</th>\n",
       "      <th>material ID</th>\n",
       "      <th>material</th>\n",
       "      <th>subgroup</th>\n",
       "      <th>group</th>\n",
       "      <th>reference</th>\n",
       "      <th>state</th>\n",
       "      <th>phase</th>\n",
       "      <th>temperature</th>\n",
       "      <th>path</th>\n",
       "    </tr>\n",
       "  </thead>\n",
       "  <tbody>\n",
       "    <tr>\n",
       "      <th>H_0</th>\n",
       "      <td>H_0</td>\n",
       "      <td>H</td>\n",
       "      <td>Poly-HCN</td>\n",
       "      <td>Misc</td>\n",
       "      <td>organics</td>\n",
       "      <td>Khare et al. 1994</td>\n",
       "      <td>-</td>\n",
       "      <td>-</td>\n",
       "      <td>-</td>\n",
       "      <td>/organics/Misc/H/H_0</td>\n",
       "    </tr>\n",
       "    <tr>\n",
       "      <th>I_0</th>\n",
       "      <td>I_0</td>\n",
       "      <td>I</td>\n",
       "      <td>Ice Tholin</td>\n",
       "      <td>Misc</td>\n",
       "      <td>organics</td>\n",
       "      <td>Khare et al. 1993</td>\n",
       "      <td>-</td>\n",
       "      <td>-</td>\n",
       "      <td>-</td>\n",
       "      <td>/organics/Misc/I/I_0</td>\n",
       "    </tr>\n",
       "    <tr>\n",
       "      <th>K_0</th>\n",
       "      <td>K_0</td>\n",
       "      <td>K</td>\n",
       "      <td>Kerogen</td>\n",
       "      <td>Misc</td>\n",
       "      <td>organics</td>\n",
       "      <td>Khare et al. 1990</td>\n",
       "      <td>-</td>\n",
       "      <td>-</td>\n",
       "      <td>-</td>\n",
       "      <td>/organics/Misc/K/K_0</td>\n",
       "    </tr>\n",
       "    <tr>\n",
       "      <th>M_0</th>\n",
       "      <td>M_0</td>\n",
       "      <td>M</td>\n",
       "      <td>Murchison</td>\n",
       "      <td>Misc</td>\n",
       "      <td>organics</td>\n",
       "      <td>Khare et al.</td>\n",
       "      <td>-</td>\n",
       "      <td>-</td>\n",
       "      <td>-</td>\n",
       "      <td>/organics/Misc/M/M_0</td>\n",
       "    </tr>\n",
       "    <tr>\n",
       "      <th>T_0</th>\n",
       "      <td>T_0</td>\n",
       "      <td>T</td>\n",
       "      <td>Titan Tholin</td>\n",
       "      <td>Misc</td>\n",
       "      <td>organics</td>\n",
       "      <td>Khare et al. 1984</td>\n",
       "      <td>-</td>\n",
       "      <td>-</td>\n",
       "      <td>-</td>\n",
       "      <td>/organics/Misc/T/T_0</td>\n",
       "    </tr>\n",
       "    <tr>\n",
       "      <th>at_0</th>\n",
       "      <td>at_0</td>\n",
       "      <td>at</td>\n",
       "      <td>Tholin alpha</td>\n",
       "      <td>Misc</td>\n",
       "      <td>organics</td>\n",
       "      <td>Khare et al. 1987</td>\n",
       "      <td>-</td>\n",
       "      <td>-</td>\n",
       "      <td>-</td>\n",
       "      <td>/organics/Misc/at/at_0</td>\n",
       "    </tr>\n",
       "  </tbody>\n",
       "</table>\n",
       "</div>"
      ],
      "text/plain": [
       "        id material ID      material subgroup     group          reference  \\\n",
       "H_0    H_0           H      Poly-HCN     Misc  organics  Khare et al. 1994   \n",
       "I_0    I_0           I    Ice Tholin     Misc  organics  Khare et al. 1993   \n",
       "K_0    K_0           K       Kerogen     Misc  organics  Khare et al. 1990   \n",
       "M_0    M_0           M     Murchison     Misc  organics       Khare et al.   \n",
       "T_0    T_0           T  Titan Tholin     Misc  organics  Khare et al. 1984   \n",
       "at_0  at_0          at  Tholin alpha     Misc  organics  Khare et al. 1987   \n",
       "\n",
       "     state phase temperature                    path  \n",
       "H_0      -     -           -    /organics/Misc/H/H_0  \n",
       "I_0      -     -           -    /organics/Misc/I/I_0  \n",
       "K_0      -     -           -    /organics/Misc/K/K_0  \n",
       "M_0      -     -           -    /organics/Misc/M/M_0  \n",
       "T_0      -     -           -    /organics/Misc/T/T_0  \n",
       "at_0     -     -           -  /organics/Misc/at/at_0  "
      ]
     },
     "execution_count": 32,
     "metadata": {},
     "output_type": "execute_result"
    }
   ],
   "source": [
    "sdb.contents"
   ]
  },
  {
   "cell_type": "markdown",
   "metadata": {},
   "source": [
    "### 1.1 See contents of a specific compositional group or material"
   ]
  },
  {
   "cell_type": "code",
   "execution_count": 35,
   "metadata": {},
   "outputs": [
    {
     "data": {
      "text/html": [
       "<div>\n",
       "<style scoped>\n",
       "    .dataframe tbody tr th:only-of-type {\n",
       "        vertical-align: middle;\n",
       "    }\n",
       "\n",
       "    .dataframe tbody tr th {\n",
       "        vertical-align: top;\n",
       "    }\n",
       "\n",
       "    .dataframe thead th {\n",
       "        text-align: right;\n",
       "    }\n",
       "</style>\n",
       "<table border=\"1\" class=\"dataframe\">\n",
       "  <thead>\n",
       "    <tr style=\"text-align: right;\">\n",
       "      <th></th>\n",
       "      <th>id</th>\n",
       "      <th>material ID</th>\n",
       "      <th>material</th>\n",
       "      <th>subgroup</th>\n",
       "      <th>group</th>\n",
       "      <th>reference</th>\n",
       "      <th>state</th>\n",
       "      <th>phase</th>\n",
       "      <th>temperature</th>\n",
       "      <th>path</th>\n",
       "    </tr>\n",
       "  </thead>\n",
       "  <tbody>\n",
       "    <tr>\n",
       "      <th>H_0</th>\n",
       "      <td>H_0</td>\n",
       "      <td>H</td>\n",
       "      <td>Poly-HCN</td>\n",
       "      <td>Misc</td>\n",
       "      <td>organics</td>\n",
       "      <td>Khare et al. 1994</td>\n",
       "      <td>-</td>\n",
       "      <td>-</td>\n",
       "      <td>-</td>\n",
       "      <td>/organics/Misc/H/H_0</td>\n",
       "    </tr>\n",
       "    <tr>\n",
       "      <th>I_0</th>\n",
       "      <td>I_0</td>\n",
       "      <td>I</td>\n",
       "      <td>Ice Tholin</td>\n",
       "      <td>Misc</td>\n",
       "      <td>organics</td>\n",
       "      <td>Khare et al. 1993</td>\n",
       "      <td>-</td>\n",
       "      <td>-</td>\n",
       "      <td>-</td>\n",
       "      <td>/organics/Misc/I/I_0</td>\n",
       "    </tr>\n",
       "    <tr>\n",
       "      <th>K_0</th>\n",
       "      <td>K_0</td>\n",
       "      <td>K</td>\n",
       "      <td>Kerogen</td>\n",
       "      <td>Misc</td>\n",
       "      <td>organics</td>\n",
       "      <td>Khare et al. 1990</td>\n",
       "      <td>-</td>\n",
       "      <td>-</td>\n",
       "      <td>-</td>\n",
       "      <td>/organics/Misc/K/K_0</td>\n",
       "    </tr>\n",
       "    <tr>\n",
       "      <th>M_0</th>\n",
       "      <td>M_0</td>\n",
       "      <td>M</td>\n",
       "      <td>Murchison</td>\n",
       "      <td>Misc</td>\n",
       "      <td>organics</td>\n",
       "      <td>Khare et al.</td>\n",
       "      <td>-</td>\n",
       "      <td>-</td>\n",
       "      <td>-</td>\n",
       "      <td>/organics/Misc/M/M_0</td>\n",
       "    </tr>\n",
       "    <tr>\n",
       "      <th>T_0</th>\n",
       "      <td>T_0</td>\n",
       "      <td>T</td>\n",
       "      <td>Titan Tholin</td>\n",
       "      <td>Misc</td>\n",
       "      <td>organics</td>\n",
       "      <td>Khare et al. 1984</td>\n",
       "      <td>-</td>\n",
       "      <td>-</td>\n",
       "      <td>-</td>\n",
       "      <td>/organics/Misc/T/T_0</td>\n",
       "    </tr>\n",
       "    <tr>\n",
       "      <th>at_0</th>\n",
       "      <td>at_0</td>\n",
       "      <td>at</td>\n",
       "      <td>Tholin alpha</td>\n",
       "      <td>Misc</td>\n",
       "      <td>organics</td>\n",
       "      <td>Khare et al. 1987</td>\n",
       "      <td>-</td>\n",
       "      <td>-</td>\n",
       "      <td>-</td>\n",
       "      <td>/organics/Misc/at/at_0</td>\n",
       "    </tr>\n",
       "  </tbody>\n",
       "</table>\n",
       "</div>"
      ],
      "text/plain": [
       "        id material ID      material subgroup     group          reference  \\\n",
       "H_0    H_0           H      Poly-HCN     Misc  organics  Khare et al. 1994   \n",
       "I_0    I_0           I    Ice Tholin     Misc  organics  Khare et al. 1993   \n",
       "K_0    K_0           K       Kerogen     Misc  organics  Khare et al. 1990   \n",
       "M_0    M_0           M     Murchison     Misc  organics       Khare et al.   \n",
       "T_0    T_0           T  Titan Tholin     Misc  organics  Khare et al. 1984   \n",
       "at_0  at_0          at  Tholin alpha     Misc  organics  Khare et al. 1987   \n",
       "\n",
       "     state phase temperature                    path  \n",
       "H_0      -     -           -    /organics/Misc/H/H_0  \n",
       "I_0      -     -           -    /organics/Misc/I/I_0  \n",
       "K_0      -     -           -    /organics/Misc/K/K_0  \n",
       "M_0      -     -           -    /organics/Misc/M/M_0  \n",
       "T_0      -     -           -    /organics/Misc/T/T_0  \n",
       "at_0     -     -           -  /organics/Misc/at/at_0  "
      ]
     },
     "execution_count": 35,
     "metadata": {},
     "output_type": "execute_result"
    }
   ],
   "source": [
    "sdb.select_group('organics')"
   ]
  },
  {
   "cell_type": "code",
   "execution_count": 36,
   "metadata": {},
   "outputs": [
    {
     "data": {
      "text/html": [
       "<div>\n",
       "<style scoped>\n",
       "    .dataframe tbody tr th:only-of-type {\n",
       "        vertical-align: middle;\n",
       "    }\n",
       "\n",
       "    .dataframe tbody tr th {\n",
       "        vertical-align: top;\n",
       "    }\n",
       "\n",
       "    .dataframe thead th {\n",
       "        text-align: right;\n",
       "    }\n",
       "</style>\n",
       "<table border=\"1\" class=\"dataframe\">\n",
       "  <thead>\n",
       "    <tr style=\"text-align: right;\">\n",
       "      <th></th>\n",
       "      <th>id</th>\n",
       "      <th>material ID</th>\n",
       "      <th>material</th>\n",
       "      <th>subgroup</th>\n",
       "      <th>group</th>\n",
       "      <th>reference</th>\n",
       "      <th>state</th>\n",
       "      <th>phase</th>\n",
       "      <th>temperature</th>\n",
       "      <th>path</th>\n",
       "    </tr>\n",
       "  </thead>\n",
       "  <tbody>\n",
       "    <tr>\n",
       "      <th>T_0</th>\n",
       "      <td>T_0</td>\n",
       "      <td>T</td>\n",
       "      <td>Titan Tholin</td>\n",
       "      <td>Misc</td>\n",
       "      <td>organics</td>\n",
       "      <td>Khare et al. 1984</td>\n",
       "      <td>-</td>\n",
       "      <td>-</td>\n",
       "      <td>-</td>\n",
       "      <td>/organics/Misc/T/T_0</td>\n",
       "    </tr>\n",
       "  </tbody>\n",
       "</table>\n",
       "</div>"
      ],
      "text/plain": [
       "      id material ID      material subgroup     group          reference  \\\n",
       "T_0  T_0           T  Titan Tholin     Misc  organics  Khare et al. 1984   \n",
       "\n",
       "    state phase temperature                  path  \n",
       "T_0     -     -           -  /organics/Misc/T/T_0  "
      ]
     },
     "execution_count": 36,
     "metadata": {},
     "output_type": "execute_result"
    }
   ],
   "source": [
    "sdb.select_material('Titan Tholin')"
   ]
  },
  {
   "cell_type": "markdown",
   "metadata": {},
   "source": [
    "### 2. Get the optical constant data"
   ]
  },
  {
   "cell_type": "code",
   "execution_count": 37,
   "metadata": {},
   "outputs": [],
   "source": [
    "oc_label, oc_data = sdb.get_constant('T_0')"
   ]
  },
  {
   "cell_type": "markdown",
   "metadata": {},
   "source": [
    "### 3. Plot the optical constant data"
   ]
  },
  {
   "cell_type": "code",
   "execution_count": 68,
   "metadata": {},
   "outputs": [
    {
     "data": {
      "image/png": "[encoded data removed]",
      "text/plain": [
       "<Figure size 720x504 with 2 Axes>"
      ]
     },
     "metadata": {
      "needs_background": "light"
     },
     "output_type": "display_data"
    }
   ],
   "source": [
    "fig, ax1 = plt.subplots(figsize=(10,7))\n",
    "ax1.set_title('Optical Constant of {0}'.format(sdb.contents.loc[oc_label,'material']), fontsize=18)\n",
    "ax1.set_xlabel('Wavelength (microns)', fontsize=14)\n",
    "\n",
    "ax1.plot(oc_data['w'], oc_data['n'], label='Real', color='steelblue', lw=2)\n",
    "ax1.tick_params(axis='y', labelcolor='steelblue')\n",
    "ax1.set_ylabel('Refractive Index (n)', color='steelblue', fontsize=14)\n",
    "\n",
    "ax2 = ax1.twinx()  \n",
    "ax2.plot(oc_data['w'], oc_data['k'], label='Imaginary', color='firebrick', lw=2)\n",
    "ax2.tick_params(axis='y', labelcolor='firebrick')\n",
    "ax2.set_ylabel('Extinction coefficient k (imaginary)', color='firebrick', fontsize=14)\n",
    "\n",
    "plt.show()"
   ]
  }
 ],
 "metadata": {
  "kernelspec": {
   "display_name": "Python 3",
   "language": "python",
   "name": "python3"
  },
  "language_info": {
   "codemirror_mode": {
    "name": "ipython",
    "version": 3
   },
   "file_extension": ".py",
   "mimetype": "text/x-python",
   "name": "python",
   "nbconvert_exporter": "python",
   "pygments_lexer": "ipython3",
   "version": "3.7.6"
  }
 },
 "nbformat": 4,
 "nbformat_minor": 4
}
